{
 "cells": [
  {
   "cell_type": "markdown",
   "metadata": {},
   "source": [
    "## Plotting PID tuning for RPM"
   ]
  },
  {
   "cell_type": "code",
   "execution_count": 1,
   "metadata": {},
   "outputs": [
    {
     "data": {
      "image/png": "[encoded data removed]",
      "text/plain": [
       "<Figure size 640x480 with 1 Axes>"
      ]
     },
     "metadata": {},
     "output_type": "display_data"
    },
    {
     "name": "stdout",
     "output_type": "stream",
     "text": [
      "Process interrupted by user.\n",
      "Serial connection closed.\n"
     ]
    }
   ],
   "source": [
    "import serial\n",
    "import matplotlib.pyplot as plt\n",
    "import time\n",
    "from IPython.display import clear_output, display\n",
    "\n",
    "# Use interactive mode\n",
    "%matplotlib inline\n",
    "\n",
    "# Open the serial port (make sure the port is correct)\n",
    "ser = serial.Serial('COM5', 115200)  # Replace 'COM5' with your port\n",
    "time.sleep(2)  # Wait for ESP32 to reset\n",
    "\n",
    "# Set up the plot\n",
    "plt.figure(figsize=(10, 6))  # Set the figure size (width=10, height=6)\n",
    "x_data, y_data = [], []  # Lists to store the x and y values\n",
    "\n",
    "x = 0\n",
    "rpm = 0\n",
    "target_rpm = 0\n",
    "\n",
    "try:\n",
    "    while True:\n",
    "        # Read data from the serial port\n",
    "        line = ser.readline().decode('utf-8', errors='ignore').strip()\n",
    "        # print(line)\n",
    "        # Parse the line to extract x and y values\n",
    "        if line.startswith(\"Target_RPM:\"):\n",
    "            # Extract x and y values\n",
    "            parts = line.split()\n",
    "            for part in parts:\n",
    "                if \"Current_RPM\" in part:\n",
    "                    rpm = float(part.split(\":\")[1])\n",
    "                elif \"Target_RPM\" in part:\n",
    "                    target_rpm = float(part.split(\":\")[1])\n",
    "            x += 1\n",
    "            # print(x, rpm)\n",
    "\n",
    "        # Append the new data for plotting\n",
    "        x_data.append(x)\n",
    "        y_data.append(rpm)\n",
    "\n",
    "        # Clear previous output (to update the graph in the same cell)\n",
    "        clear_output(wait=True)\n",
    "\n",
    "        # Plot the updated data\n",
    "        plt.plot(x_data, y_data, label=\"RPM\", color=\"blue\")\n",
    "        \n",
    "        # Plot the horizontal line for target RPM\n",
    "        plt.axhline(y=target_rpm, color='red', linestyle='--', label=f\"Target RPM ({target_rpm})\")\n",
    "        \n",
    "        # Set labels and title\n",
    "        plt.xlabel(\"Time (s)\")\n",
    "        plt.ylabel(\"RPM\")\n",
    "        plt.title(\"Real-time Plot of RPM\")\n",
    "\n",
    "        # Redraw the plot\n",
    "        plt.legend(loc=\"upper left\")\n",
    "        plt.show()\n",
    "\n",
    "        # Pause to allow the plot to update\n",
    "        time.sleep(0.1)\n",
    "\n",
    "except KeyboardInterrupt:\n",
    "    print(\"Process interrupted by user.\")\n",
    "\n",
    "finally:\n",
    "    # Close the serial connection when done\n",
    "    ser.close()\n",
    "    print(\"Serial connection closed.\")\n"
   ]
  },
  {
   "cell_type": "markdown",
   "metadata": {},
   "source": [
    "## Plotting PID tuning for Position"
   ]
  },
  {
   "cell_type": "code",
   "execution_count": 3,
   "metadata": {},
   "outputs": [
    {
     "name": "stdout",
     "output_type": "stream",
     "text": [
      "Process interrupted by user.\n",
      "Serial connection closed.\n"
     ]
    }
   ],
   "source": [
    "import serial\n",
    "import matplotlib.pyplot as plt\n",
    "import time\n",
    "from IPython.display import clear_output, display\n",
    "\n",
    "# Use interactive mode\n",
    "%matplotlib inline\n",
    "\n",
    "# Open the serial port (make sure the port is correct)\n",
    "ser = serial.Serial('COM5', 115200)  # Replace 'COM5' with your port\n",
    "time.sleep(2)  # Wait for ESP32 to reset\n",
    "\n",
    "# Set up the plot\n",
    "plt.figure(figsize=(10, 6))  # Set the figure size (width=10, height=6)\n",
    "x_data, y_data = [], []  # Lists to store the x and y values\n",
    "\n",
    "x = 0\n",
    "position = 0\n",
    "target_position = 0\n",
    "\n",
    "try:\n",
    "    while True:\n",
    "        # Read data from the serial port\n",
    "        line = ser.readline().decode('utf-8', errors='ignore').strip()\n",
    "        # print(line)\n",
    "        # Parse the line to extract x and y values\n",
    "        if line.startswith(\"Target_position:\"):\n",
    "            # Extract x and y values\n",
    "            parts = line.split()\n",
    "            for part in parts:\n",
    "                if \"Current_position\" in part:\n",
    "                    position = float(part.split(\":\")[1])\n",
    "                elif \"Target_position\" in part:\n",
    "                    target_position = float(part.split(\":\")[1])\n",
    "            x += 1\n",
    "            # print(x, position)\n",
    "\n",
    "        # Append the new data for plotting\n",
    "        x_data.append(x)\n",
    "        y_data.append(position)\n",
    "\n",
    "        # Clear previous output (to update the graph in the same cell)\n",
    "        clear_output(wait=True)\n",
    "\n",
    "        # Plot the updated data\n",
    "        plt.plot(x_data, y_data, label=\"Position\", color=\"blue\")\n",
    "        \n",
    "        # Plot the horizontal line for target Position\n",
    "        plt.axhline(y=target_position, color='red', linestyle='--', label=f\"Target Position ({target_position})\")\n",
    "        \n",
    "        # Set labels and title\n",
    "        plt.xlabel(\"Time (s)\")\n",
    "        plt.ylabel(\"Position\")\n",
    "        plt.title(\"Real-time Plot of Position\")\n",
    "\n",
    "        # Redraw the plot\n",
    "        plt.legend(loc=\"upper left\")\n",
    "        plt.show()\n",
    "\n",
    "        # Pause to allow the plot to update\n",
    "        time.sleep(0.1)\n",
    "\n",
    "except KeyboardInterrupt:\n",
    "    print(\"Process interrupted by user.\")\n",
    "\n",
    "finally:\n",
    "    # Close the serial connection when done\n",
    "    ser.close()\n",
    "    print(\"Serial connection closed.\")\n"
   ]
  },
  {
   "cell_type": "markdown",
   "metadata": {},
   "source": [
    "### (Optional) Downsampling - Plot Every nth Data Point"
   ]
  },
  {
   "cell_type": "code",
   "execution_count": 5,
   "metadata": {},
   "outputs": [
    {
     "data": {
      "application/vnd.jupyter.widget-view+json": {
       "model_id": "d294c21a1de644d9b32979c9d8b64494",
       "version_major": 2,
       "version_minor": 0
      },
      "text/plain": [
       "FigureWidget({\n",
       "    'data': [{'mode': 'lines',\n",
       "              'name': 'Position',\n",
       "              'type': 'scatter',\n",
       "              'uid': 'd7910050-8dde-4e8c-add7-7991c7ad2302',\n",
       "              'x': [],\n",
       "              'y': []}],\n",
       "    'layout': {'template': '...',\n",
       "               'title': {'text': 'Real-time Plot of Position'},\n",
       "               'xaxis': {'title': {'text': 'Time (s)'}},\n",
       "               'yaxis': {'title': {'text': 'Position'}}}\n",
       "})"
      ]
     },
     "metadata": {},
     "output_type": "display_data"
    },
    {
     "name": "stdout",
     "output_type": "stream",
     "text": [
      "Process interrupted by user.\n",
      "Serial connection closed.\n"
     ]
    }
   ],
   "source": [
    "import serial\n",
    "import plotly.graph_objects as go\n",
    "import time\n",
    "import re\n",
    "from IPython.display import display\n",
    "\n",
    "# Open the serial port (make sure the port is correct)\n",
    "ser = serial.Serial('COM5', 115200)  # Replace 'COM5' with your port\n",
    "time.sleep(2)  # Wait for ESP32 to reset\n",
    "\n",
    "# Create an empty plot\n",
    "fig = go.FigureWidget(\n",
    "    data=[go.Scatter(x=[], y=[], mode='lines', name='Position')],\n",
    "    layout=go.Layout(\n",
    "        title=\"Real-time Plot of Position\",\n",
    "        xaxis=dict(title=\"Time (s)\"),\n",
    "        yaxis=dict(title=\"Position\")\n",
    "    )\n",
    ")\n",
    "display(fig)\n",
    "\n",
    "# Regular expression to match numbers (including floats)\n",
    "number_regex = re.compile(r\"[-+]?\\d*\\.\\d+|\\d+\")\n",
    "\n",
    "# Set up variables\n",
    "start_time = time.time()  # Record the start time\n",
    "position = 0\n",
    "target_position = 0\n",
    "\n",
    "try:\n",
    "    while True:\n",
    "        # Read data from the serial port\n",
    "        line = ser.readline().decode('utf-8', errors='ignore').strip()\n",
    "\n",
    "        # Parse the line to extract x and y values\n",
    "        if line.startswith(\"Target_position:\"):\n",
    "            parts = line.split()\n",
    "            for part in parts:\n",
    "                # Search for numbers in the string using regex\n",
    "                match = number_regex.search(part)\n",
    "                if match:\n",
    "                    # Extract the number from the matched part\n",
    "                    number_str = match.group()\n",
    "                    if \"Current_position\" in part:\n",
    "                        position = float(number_str)\n",
    "                    elif \"Target_position\" in part:\n",
    "                        target_position = float(number_str)\n",
    "\n",
    "            # Calculate elapsed time since the start\n",
    "            elapsed_time = time.time() - start_time\n",
    "\n",
    "            # Update the plot with new data\n",
    "            fig.data[0].x = fig.data[0].x + (elapsed_time,)  # Append new time\n",
    "            fig.data[0].y = fig.data[0].y + (position,)  # Append new position\n",
    "\n",
    "            # Redraw the plot with a smooth update\n",
    "            fig.update_layout(\n",
    "                xaxis=dict(range=[min(fig.data[0].x), max(fig.data[0].x)]),\n",
    "                yaxis=dict(range=[min(fig.data[0].y), max(fig.data[0].y)]),\n",
    "            )\n",
    "\n",
    "            # Optionally add target position as a horizontal line\n",
    "            fig.add_shape(\n",
    "                type=\"line\",\n",
    "                x0=fig.data[0].x[0], x1=fig.data[0].x[-1],\n",
    "                y0=target_position, y1=target_position,\n",
    "                line=dict(color=\"red\", dash=\"dash\")\n",
    "            )\n",
    "\n",
    "        # Pause to allow the plot to update (can adjust the interval)\n",
    "        time.sleep(0.01)  # Update every 10 ms\n",
    "\n",
    "except KeyboardInterrupt:\n",
    "    print(\"Process interrupted by user.\")\n",
    "\n",
    "finally:\n",
    "    # Close the serial connection when done\n",
    "    ser.close()\n",
    "    print(\"Serial connection closed.\")\n"
   ]
  },
  {
   "cell_type": "code",
   "execution_count": null,
   "metadata": {},
   "outputs": [],
   "source": []
  }
 ],
 "metadata": {
  "kernelspec": {
   "display_name": "Python 3 (ipykernel)",
   "language": "python",
   "name": "python3"
  },
  "language_info": {
   "codemirror_mode": {
    "name": "ipython",
    "version": 3
   },
   "file_extension": ".py",
   "mimetype": "text/x-python",
   "name": "python",
   "nbconvert_exporter": "python",
   "pygments_lexer": "ipython3",
   "version": "3.12.7"
  }
 },
 "nbformat": 4,
 "nbformat_minor": 4
}
